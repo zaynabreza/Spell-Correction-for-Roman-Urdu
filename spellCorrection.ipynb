{
  "nbformat": 4,
  "nbformat_minor": 0,
  "metadata": {
    "kernelspec": {
      "display_name": "Python 3",
      "language": "python",
      "name": "python3"
    },
    "language_info": {
      "codemirror_mode": {
        "name": "ipython",
        "version": 3
      },
      "file_extension": ".py",
      "mimetype": "text/x-python",
      "name": "python",
      "nbconvert_exporter": "python",
      "pygments_lexer": "ipython3",
      "version": "3.8.5"
    },
    "colab": {
      "name": "i18-0419.ipynb",
      "provenance": [],
      "collapsed_sections": []
    }
  },
  "cells": [
    {
      "cell_type": "markdown",
      "metadata": {
        "id": "D7qc_kgO45kH"
      },
      "source": [
        "Zaynab Batool Reza\n",
        "\n",
        "i180419\n",
        "\n",
        "i180419@nu.edu.pk"
      ]
    },
    {
      "cell_type": "markdown",
      "metadata": {
        "id": "oKg5CxkB4mOT"
      },
      "source": [
        "#Code Implementation"
      ]
    },
    {
      "cell_type": "markdown",
      "metadata": {
        "id": "fHeQZEcs7RMj"
      },
      "source": [
        "## **Importing Libraries**\n"
      ]
    },
    {
      "cell_type": "code",
      "metadata": {
        "id": "t1LoD6jT7RM3"
      },
      "source": [
        "import pandas as pd\n",
        "import numpy as np\n",
        "import spacy as sp"
      ],
      "execution_count": 2,
      "outputs": []
    },
    {
      "cell_type": "code",
      "metadata": {
        "colab": {
          "base_uri": "https://localhost:8080/"
        },
        "id": "mRIMSYgu7pbL",
        "outputId": "ba145a1d-6d44-4c58-9fba-3288918b182b"
      },
      "source": [
        "from google.colab import drive\n",
        "drive.mount('/content/drive')"
      ],
      "execution_count": 3,
      "outputs": [
        {
          "output_type": "stream",
          "text": [
            "Mounted at /content/drive\n"
          ],
          "name": "stdout"
        }
      ]
    },
    {
      "cell_type": "markdown",
      "metadata": {
        "id": "2eXP_Bsc7RM5"
      },
      "source": [
        "## Reading Corpus"
      ]
    },
    {
      "cell_type": "code",
      "metadata": {
        "colab": {
          "base_uri": "https://localhost:8080/"
        },
        "id": "5nU3EePH7RM6",
        "outputId": "47d6ebb6-0c81-4150-d24f-47b77c6af923"
      },
      "source": [
        "def readFile(filename):\n",
        "    N=500\n",
        "    text=\"\"\n",
        "    with open('/content/drive/MyDrive/'+filename,'r') as file: \n",
        "        text=file.read()\n",
        "    text=text.replace('\\n', ' ') #replace end of line characters\n",
        "    text= (text.split()) #divide the text into words\n",
        "\n",
        "    count=0\n",
        "    \n",
        "    words=[]  \n",
        "    for w in text:\n",
        "        words.append(w)\n",
        "        count=count+1 #count total number of words\n",
        "    print(count)\n",
        "    return words\n",
        "corpus=readFile('data.txt') #corpus saved in a list that has all the words in the text. Will be used in later functions "
      ],
      "execution_count": 37,
      "outputs": [
        {
          "output_type": "stream",
          "text": [
            "63190876\n"
          ],
          "name": "stdout"
        }
      ]
    },
    {
      "cell_type": "markdown",
      "metadata": {
        "id": "R1l8Qrpr9HAA"
      },
      "source": [
        "### Checking To Ensure Entire File Has Been Read\n",
        "Which it has if lenth of corpus is same as the count printed by previous cell"
      ]
    },
    {
      "cell_type": "code",
      "metadata": {
        "colab": {
          "base_uri": "https://localhost:8080/"
        },
        "id": "gsBl4bhV801q",
        "outputId": "d9ae4edd-cd02-4dd5-9a6b-8550c45f9981"
      },
      "source": [
        "corpus[-2:len(corpus)]\n",
        "print(len(corpus))"
      ],
      "execution_count": 38,
      "outputs": [
        {
          "output_type": "stream",
          "text": [
            "63190876\n"
          ],
          "name": "stdout"
        }
      ]
    },
    {
      "cell_type": "markdown",
      "metadata": {
        "id": "zdiTr4E67RM9"
      },
      "source": [
        "## Training UniGram using Corpus\n",
        "Each key in the dictionary represents a unique word and the value against it is the number of times it appears in the corpus provided divided by total words in the corpus, thus representing the word's probability"
      ]
    },
    {
      "cell_type": "code",
      "metadata": {
        "colab": {
          "base_uri": "https://localhost:8080/"
        },
        "id": "O6TogixM7RM9",
        "outputId": "7b386222-d329-42e1-a49b-0a641e0783bb"
      },
      "source": [
        "def generateUnigram(words):\n",
        "    count={}\n",
        "    unigram={}\n",
        "    for w in words:\n",
        "        if w in count:\n",
        "            count[w]+=1\n",
        "        else:\n",
        "            count[w]=1\n",
        "            \n",
        "    for key in count:        \n",
        "        unigram[key]=count[key]/float(len(words))\n",
        "    return unigram\n",
        "\n",
        "unigram=(generateUnigram(corpus)) #unigram stored\n",
        "\n",
        "print(unigram['sab']) #checking\n"
      ],
      "execution_count": 39,
      "outputs": [
        {
          "output_type": "stream",
          "text": [
            "0.0033060785547584432\n"
          ],
          "name": "stdout"
        }
      ]
    },
    {
      "cell_type": "code",
      "metadata": {
        "colab": {
          "base_uri": "https://localhost:8080/"
        },
        "id": "8tn1BbxZGFVl",
        "outputId": "c6834e09-90a0-4c4b-a46a-0df16f327c47"
      },
      "source": [
        "print(len(unigram))"
      ],
      "execution_count": 7,
      "outputs": [
        {
          "output_type": "stream",
          "text": [
            "35834\n"
          ],
          "name": "stdout"
        }
      ]
    },
    {
      "cell_type": "markdown",
      "metadata": {
        "id": "sL2ZpAA67RM-"
      },
      "source": [
        "## Creating Dictionary from Misspellings File\n",
        "Each key in the dictionary is a correctly spelled word and against it as values is a list of the misspellings of that word as provided in file"
      ]
    },
    {
      "cell_type": "code",
      "metadata": {
        "colab": {
          "base_uri": "https://localhost:8080/"
        },
        "id": "sOFgjXrv7RM_",
        "outputId": "1e66a063-4495-4d15-bde9-fb10a11f71af"
      },
      "source": [
        "def createMisspellingsDict(filename):\n",
        "    file=open('/content/drive/MyDrive/'+filename,'r') #open in read mode\n",
        "    lines=file.readlines()\n",
        "    misspellings={}\n",
        "    for line in lines:\n",
        "        #print(\"Line{}: {}\".format(1, line.strip()))\n",
        "        fullLine=line.strip()\n",
        "        correctWrong=fullLine.split(',')\n",
        "        correct=correctWrong[0]\n",
        "        tempwrongs=correctWrong[1].split(' ')\n",
        "        wrongs=tempwrongs[1].split('\\t')\n",
        "        if correct not in misspellings:\n",
        "            misspellings[correct]=[]\n",
        "        misspellings[correct]=wrongs\n",
        "    misspellings.pop('Correct')\n",
        "    return misspellings\n",
        "\n",
        "misspellings=createMisspellingsDict('misspellings.txt') #misspellings dictionary saved\n",
        "print(misspellings['gujrati']) #checking\n"
      ],
      "execution_count": 8,
      "outputs": [
        {
          "output_type": "stream",
          "text": [
            "['gujriti', 'gujratij', 'gujraoti', 'gujrsati', 'gujoati', 'gujrasti', 'gujeati']\n"
          ],
          "name": "stdout"
        }
      ]
    },
    {
      "cell_type": "markdown",
      "metadata": {
        "id": "chidhkkz7RNA"
      },
      "source": [
        "## Find Operation Peformed Between Words and Involved Letters\n",
        "### Assuming edit distance of 1\n",
        "The function takes the correct and wrong word, if wrong word is longer than correct it marks it as insertion and finds the letter inserted and the one before.\n",
        "If wrong word is smaller then operation is considered delete and involved letters are found.\n",
        "If both words are the same length, then the differing letter is found. If the next letter in the wrong word is the current one in correct and current one in wrong is next letter in correct word then it is marked as transpose, else it is considered substitution"
      ]
    },
    {
      "cell_type": "code",
      "metadata": {
        "id": "uIoxCj1R7RNA"
      },
      "source": [
        "def getOperationLetters(correct, wrong):\n",
        "    x=\"\"\n",
        "    y=\"\"\n",
        "    operation=\"\"\n",
        "    letterFound=False\n",
        "    if len(correct) < len(wrong): #insertion has taken place\n",
        "        operation='insert'\n",
        "        for i, letter in enumerate(correct):\n",
        "            if (letter != wrong[i]):\n",
        "                if i==0:\n",
        "                    x='#'\n",
        "                    y=wrong[i]\n",
        "                else:\n",
        "                    x=correct[i-1]\n",
        "                    y=wrong[i]\n",
        "                letterFound=True\n",
        "                break\n",
        "        if (letterFound==False):\n",
        "            x=correct[-1]\n",
        "            y=wrong[-1]\n",
        "    elif len(correct) > len(wrong): #deletion has taken place\n",
        "        operation='delete'\n",
        "        for i, letter in enumerate(wrong):\n",
        "            if (letter != correct[i]):\n",
        "                if i==0:\n",
        "                    x='#'\n",
        "                    y=correct[i]\n",
        "                else:\n",
        "                    x=correct[i-1]\n",
        "                    y=correct[i] \n",
        "                letterFound=True\n",
        "                break\n",
        "            if (letterFound==False):\n",
        "                x=correct[-2]\n",
        "                y=correct[-1]\n",
        "                \n",
        "    elif len(correct)==len(wrong): #substition or transpose has taken place\n",
        "        for i, letter in enumerate(correct):\n",
        "            if (letter != wrong[i]):\n",
        "                if (i<len(wrong)-1):\n",
        "                    if letter==wrong[i+1] and correct[i+1]==wrong[i]: #transpose\n",
        "                        operation='transpose'\n",
        "                        x=letter\n",
        "                        y=correct[i+1]\n",
        "                        break\n",
        "                    else: #substitution\n",
        "                        operation='substitute'\n",
        "                        x=wrong[i]\n",
        "                        y=letter\n",
        "                        break\n",
        "                else:\n",
        "                    operation='substitute'\n",
        "                    x=wrong[i]\n",
        "                    y=letter\n",
        "                    break\n",
        "                    \n",
        "                    \n",
        "                    \n",
        "    return operation,x,y"
      ],
      "execution_count": 9,
      "outputs": []
    },
    {
      "cell_type": "code",
      "metadata": {
        "colab": {
          "base_uri": "https://localhost:8080/"
        },
        "id": "TDQTgVv17RNC",
        "outputId": "bd5e91cc-5792-4594-d865-1ab1bdfe5aac"
      },
      "source": [
        "#Checking the function\n",
        "op, x, y=getOperationLetters('woh', 'oh')\n",
        "print(\"Operation = \", op, \" x= \", x, \" y= \", y)\n",
        "op, x, y=getOperationLetters('ko', 'kwo')\n",
        "print(\"Operation = \", op, \" x= \", x, \" y= \", y)\n",
        "op, x, y=getOperationLetters('usary', 'usaey')\n",
        "print(\"Operation = \", op, \" x= \", x, \" y= \", y)\n",
        "op, x, y=getOperationLetters('usay', 'suay')\n",
        "print(\"Operation = \", op, \" x= \", x, \" y= \", y)\n",
        "op, x, y=getOperationLetters('ka', 'kaz')\n",
        "print(\"Operation = \", op, \" x= \", x, \" y= \", y)\n",
        "op, x, y=getOperationLetters('ka', 'k')\n",
        "print(\"Operation = \", op, \" x= \", x, \" y= \", y)\n",
        "op, x, y=getOperationLetters('pichlaa', 'pichla')\n",
        "print(\"Operation = \", op, \" x= \", x, \" y= \", y)"
      ],
      "execution_count": 10,
      "outputs": [
        {
          "output_type": "stream",
          "text": [
            "Operation =  delete  x=  #  y=  w\n",
            "Operation =  insert  x=  k  y=  w\n",
            "Operation =  substitute  x=  e  y=  r\n",
            "Operation =  transpose  x=  u  y=  s\n",
            "Operation =  insert  x=  a  y=  z\n",
            "Operation =  delete  x=  k  y=  a\n",
            "Operation =  delete  x=  a  y=  a\n"
          ],
          "name": "stdout"
        }
      ]
    },
    {
      "cell_type": "markdown",
      "metadata": {
        "id": "lkGVyyJ77RND"
      },
      "source": [
        "## Generating Error Model Edit Tables\n",
        "The dictionary for misspellings is traversed and for each correct and wrong word pair, the getOperationLetters function is called to find what operation is done and what letters are involved. The respective table is updated accordingly, where each table is a DataFrame and at the end all tables are returned"
      ]
    },
    {
      "cell_type": "code",
      "metadata": {
        "scrolled": false,
        "colab": {
          "base_uri": "https://localhost:8080/",
          "height": 823
        },
        "id": "xw2QJApK7RNE",
        "outputId": "320d7f09-dd56-4e8b-e6e8-ace94fd961fd"
      },
      "source": [
        "def generateEditTables(misspellings):\n",
        "    alphabet=['a','b','c','d','e','f','g','h','i','j','k','l','m','n','o','p','q','r','s','t','u','v','w','x','y','z']\n",
        "    sub=pd.DataFrame(0,columns=alphabet, index=alphabet)\n",
        "    rev=pd.DataFrame(0,columns=alphabet, index=alphabet)\n",
        "    alphabetStart=['#','a','b','c','d','e','f','g','h','i','j','k','l','m','n','o','p','q','r','s','t','u','v','w','x','y','z']\n",
        "    delete=pd.DataFrame(0,columns=alphabet, index=alphabetStart)\n",
        "    insert=pd.DataFrame(0,columns=alphabet, index=alphabetStart)\n",
        "\n",
        "    #for insert table, y is the letter in wrong word inserted after x\n",
        "    #for delete table, y is the letter that has been deleted after x\n",
        "    #for substitute table, y is the letter in correct word that is substituted by x\n",
        "    #for reverse table, xy are the letters in correct word that have been reversed to become yx in wrong word\n",
        "    \n",
        "    for correct in misspellings:\n",
        "        for wrong in misspellings[correct]:\n",
        "            op, x, y=getOperationLetters(correct, wrong)\n",
        "            if (x==\"\" or y==\"\"):\n",
        "                print(\"Correct word: \", correct, \"Wrong Word: \", wrong)\n",
        "            if (op=='insert'):\n",
        "                insert[y][x]+=1 #in column y at index x\n",
        "            elif (op=='delete'):\n",
        "                delete[y][x]+=1\n",
        "            elif (op=='transpose'):\n",
        "                rev[y][x]+=1\n",
        "            elif (op=='substitute'):\n",
        "                sub[y][x]+=1\n",
        "    \n",
        "    return sub, rev, delete, insert\n",
        "\n",
        "\n",
        "sub, rev, delete, insert=generateEditTables(misspellings) #sub, rev, delete and insert tables saved\n",
        "insert #checking\n",
        "\n"
      ],
      "execution_count": 13,
      "outputs": [
        {
          "output_type": "execute_result",
          "data": {
            "text/html": [
              "<div>\n",
              "<style scoped>\n",
              "    .dataframe tbody tr th:only-of-type {\n",
              "        vertical-align: middle;\n",
              "    }\n",
              "\n",
              "    .dataframe tbody tr th {\n",
              "        vertical-align: top;\n",
              "    }\n",
              "\n",
              "    .dataframe thead th {\n",
              "        text-align: right;\n",
              "    }\n",
              "</style>\n",
              "<table border=\"1\" class=\"dataframe\">\n",
              "  <thead>\n",
              "    <tr style=\"text-align: right;\">\n",
              "      <th></th>\n",
              "      <th>a</th>\n",
              "      <th>b</th>\n",
              "      <th>c</th>\n",
              "      <th>d</th>\n",
              "      <th>e</th>\n",
              "      <th>f</th>\n",
              "      <th>g</th>\n",
              "      <th>h</th>\n",
              "      <th>i</th>\n",
              "      <th>j</th>\n",
              "      <th>k</th>\n",
              "      <th>l</th>\n",
              "      <th>m</th>\n",
              "      <th>n</th>\n",
              "      <th>o</th>\n",
              "      <th>p</th>\n",
              "      <th>q</th>\n",
              "      <th>r</th>\n",
              "      <th>s</th>\n",
              "      <th>t</th>\n",
              "      <th>u</th>\n",
              "      <th>v</th>\n",
              "      <th>w</th>\n",
              "      <th>x</th>\n",
              "      <th>y</th>\n",
              "      <th>z</th>\n",
              "    </tr>\n",
              "  </thead>\n",
              "  <tbody>\n",
              "    <tr>\n",
              "      <th>#</th>\n",
              "      <td>594</td>\n",
              "      <td>650</td>\n",
              "      <td>705</td>\n",
              "      <td>682</td>\n",
              "      <td>710</td>\n",
              "      <td>707</td>\n",
              "      <td>683</td>\n",
              "      <td>655</td>\n",
              "      <td>707</td>\n",
              "      <td>671</td>\n",
              "      <td>680</td>\n",
              "      <td>694</td>\n",
              "      <td>677</td>\n",
              "      <td>662</td>\n",
              "      <td>671</td>\n",
              "      <td>679</td>\n",
              "      <td>744</td>\n",
              "      <td>713</td>\n",
              "      <td>691</td>\n",
              "      <td>718</td>\n",
              "      <td>730</td>\n",
              "      <td>732</td>\n",
              "      <td>710</td>\n",
              "      <td>771</td>\n",
              "      <td>681</td>\n",
              "      <td>744</td>\n",
              "    </tr>\n",
              "    <tr>\n",
              "      <th>a</th>\n",
              "      <td>548</td>\n",
              "      <td>693</td>\n",
              "      <td>644</td>\n",
              "      <td>652</td>\n",
              "      <td>662</td>\n",
              "      <td>641</td>\n",
              "      <td>656</td>\n",
              "      <td>608</td>\n",
              "      <td>577</td>\n",
              "      <td>629</td>\n",
              "      <td>628</td>\n",
              "      <td>616</td>\n",
              "      <td>638</td>\n",
              "      <td>592</td>\n",
              "      <td>679</td>\n",
              "      <td>656</td>\n",
              "      <td>653</td>\n",
              "      <td>507</td>\n",
              "      <td>606</td>\n",
              "      <td>620</td>\n",
              "      <td>670</td>\n",
              "      <td>633</td>\n",
              "      <td>626</td>\n",
              "      <td>656</td>\n",
              "      <td>634</td>\n",
              "      <td>648</td>\n",
              "    </tr>\n",
              "    <tr>\n",
              "      <th>b</th>\n",
              "      <td>57</td>\n",
              "      <td>81</td>\n",
              "      <td>95</td>\n",
              "      <td>97</td>\n",
              "      <td>60</td>\n",
              "      <td>86</td>\n",
              "      <td>66</td>\n",
              "      <td>81</td>\n",
              "      <td>91</td>\n",
              "      <td>83</td>\n",
              "      <td>72</td>\n",
              "      <td>72</td>\n",
              "      <td>85</td>\n",
              "      <td>69</td>\n",
              "      <td>73</td>\n",
              "      <td>93</td>\n",
              "      <td>95</td>\n",
              "      <td>85</td>\n",
              "      <td>97</td>\n",
              "      <td>96</td>\n",
              "      <td>98</td>\n",
              "      <td>90</td>\n",
              "      <td>100</td>\n",
              "      <td>97</td>\n",
              "      <td>81</td>\n",
              "      <td>88</td>\n",
              "    </tr>\n",
              "    <tr>\n",
              "      <th>c</th>\n",
              "      <td>55</td>\n",
              "      <td>64</td>\n",
              "      <td>69</td>\n",
              "      <td>66</td>\n",
              "      <td>58</td>\n",
              "      <td>67</td>\n",
              "      <td>68</td>\n",
              "      <td>31</td>\n",
              "      <td>58</td>\n",
              "      <td>63</td>\n",
              "      <td>73</td>\n",
              "      <td>75</td>\n",
              "      <td>78</td>\n",
              "      <td>67</td>\n",
              "      <td>63</td>\n",
              "      <td>92</td>\n",
              "      <td>62</td>\n",
              "      <td>64</td>\n",
              "      <td>70</td>\n",
              "      <td>76</td>\n",
              "      <td>60</td>\n",
              "      <td>61</td>\n",
              "      <td>59</td>\n",
              "      <td>79</td>\n",
              "      <td>69</td>\n",
              "      <td>55</td>\n",
              "    </tr>\n",
              "    <tr>\n",
              "      <th>d</th>\n",
              "      <td>99</td>\n",
              "      <td>109</td>\n",
              "      <td>127</td>\n",
              "      <td>136</td>\n",
              "      <td>97</td>\n",
              "      <td>148</td>\n",
              "      <td>114</td>\n",
              "      <td>111</td>\n",
              "      <td>98</td>\n",
              "      <td>130</td>\n",
              "      <td>109</td>\n",
              "      <td>113</td>\n",
              "      <td>131</td>\n",
              "      <td>126</td>\n",
              "      <td>116</td>\n",
              "      <td>128</td>\n",
              "      <td>126</td>\n",
              "      <td>120</td>\n",
              "      <td>131</td>\n",
              "      <td>125</td>\n",
              "      <td>126</td>\n",
              "      <td>131</td>\n",
              "      <td>115</td>\n",
              "      <td>130</td>\n",
              "      <td>131</td>\n",
              "      <td>149</td>\n",
              "    </tr>\n",
              "    <tr>\n",
              "      <th>e</th>\n",
              "      <td>273</td>\n",
              "      <td>298</td>\n",
              "      <td>248</td>\n",
              "      <td>230</td>\n",
              "      <td>235</td>\n",
              "      <td>272</td>\n",
              "      <td>270</td>\n",
              "      <td>267</td>\n",
              "      <td>267</td>\n",
              "      <td>277</td>\n",
              "      <td>244</td>\n",
              "      <td>290</td>\n",
              "      <td>261</td>\n",
              "      <td>229</td>\n",
              "      <td>256</td>\n",
              "      <td>266</td>\n",
              "      <td>254</td>\n",
              "      <td>219</td>\n",
              "      <td>294</td>\n",
              "      <td>236</td>\n",
              "      <td>277</td>\n",
              "      <td>286</td>\n",
              "      <td>259</td>\n",
              "      <td>243</td>\n",
              "      <td>241</td>\n",
              "      <td>270</td>\n",
              "    </tr>\n",
              "    <tr>\n",
              "      <th>f</th>\n",
              "      <td>23</td>\n",
              "      <td>39</td>\n",
              "      <td>58</td>\n",
              "      <td>38</td>\n",
              "      <td>32</td>\n",
              "      <td>44</td>\n",
              "      <td>38</td>\n",
              "      <td>37</td>\n",
              "      <td>32</td>\n",
              "      <td>41</td>\n",
              "      <td>47</td>\n",
              "      <td>35</td>\n",
              "      <td>54</td>\n",
              "      <td>33</td>\n",
              "      <td>40</td>\n",
              "      <td>37</td>\n",
              "      <td>43</td>\n",
              "      <td>35</td>\n",
              "      <td>36</td>\n",
              "      <td>40</td>\n",
              "      <td>34</td>\n",
              "      <td>43</td>\n",
              "      <td>39</td>\n",
              "      <td>28</td>\n",
              "      <td>39</td>\n",
              "      <td>31</td>\n",
              "    </tr>\n",
              "    <tr>\n",
              "      <th>g</th>\n",
              "      <td>56</td>\n",
              "      <td>88</td>\n",
              "      <td>88</td>\n",
              "      <td>80</td>\n",
              "      <td>74</td>\n",
              "      <td>74</td>\n",
              "      <td>74</td>\n",
              "      <td>58</td>\n",
              "      <td>80</td>\n",
              "      <td>91</td>\n",
              "      <td>71</td>\n",
              "      <td>86</td>\n",
              "      <td>88</td>\n",
              "      <td>68</td>\n",
              "      <td>79</td>\n",
              "      <td>84</td>\n",
              "      <td>80</td>\n",
              "      <td>57</td>\n",
              "      <td>69</td>\n",
              "      <td>85</td>\n",
              "      <td>72</td>\n",
              "      <td>70</td>\n",
              "      <td>87</td>\n",
              "      <td>65</td>\n",
              "      <td>84</td>\n",
              "      <td>81</td>\n",
              "    </tr>\n",
              "    <tr>\n",
              "      <th>h</th>\n",
              "      <td>112</td>\n",
              "      <td>206</td>\n",
              "      <td>210</td>\n",
              "      <td>237</td>\n",
              "      <td>185</td>\n",
              "      <td>228</td>\n",
              "      <td>234</td>\n",
              "      <td>217</td>\n",
              "      <td>192</td>\n",
              "      <td>228</td>\n",
              "      <td>229</td>\n",
              "      <td>225</td>\n",
              "      <td>240</td>\n",
              "      <td>212</td>\n",
              "      <td>185</td>\n",
              "      <td>225</td>\n",
              "      <td>249</td>\n",
              "      <td>226</td>\n",
              "      <td>222</td>\n",
              "      <td>219</td>\n",
              "      <td>222</td>\n",
              "      <td>222</td>\n",
              "      <td>232</td>\n",
              "      <td>215</td>\n",
              "      <td>224</td>\n",
              "      <td>218</td>\n",
              "    </tr>\n",
              "    <tr>\n",
              "      <th>i</th>\n",
              "      <td>229</td>\n",
              "      <td>254</td>\n",
              "      <td>259</td>\n",
              "      <td>252</td>\n",
              "      <td>250</td>\n",
              "      <td>246</td>\n",
              "      <td>248</td>\n",
              "      <td>261</td>\n",
              "      <td>244</td>\n",
              "      <td>288</td>\n",
              "      <td>262</td>\n",
              "      <td>264</td>\n",
              "      <td>257</td>\n",
              "      <td>235</td>\n",
              "      <td>269</td>\n",
              "      <td>236</td>\n",
              "      <td>243</td>\n",
              "      <td>248</td>\n",
              "      <td>220</td>\n",
              "      <td>240</td>\n",
              "      <td>276</td>\n",
              "      <td>275</td>\n",
              "      <td>278</td>\n",
              "      <td>242</td>\n",
              "      <td>266</td>\n",
              "      <td>254</td>\n",
              "    </tr>\n",
              "    <tr>\n",
              "      <th>j</th>\n",
              "      <td>38</td>\n",
              "      <td>53</td>\n",
              "      <td>53</td>\n",
              "      <td>42</td>\n",
              "      <td>50</td>\n",
              "      <td>50</td>\n",
              "      <td>49</td>\n",
              "      <td>47</td>\n",
              "      <td>47</td>\n",
              "      <td>68</td>\n",
              "      <td>46</td>\n",
              "      <td>50</td>\n",
              "      <td>53</td>\n",
              "      <td>51</td>\n",
              "      <td>43</td>\n",
              "      <td>32</td>\n",
              "      <td>48</td>\n",
              "      <td>47</td>\n",
              "      <td>47</td>\n",
              "      <td>40</td>\n",
              "      <td>33</td>\n",
              "      <td>54</td>\n",
              "      <td>55</td>\n",
              "      <td>39</td>\n",
              "      <td>48</td>\n",
              "      <td>61</td>\n",
              "    </tr>\n",
              "    <tr>\n",
              "      <th>k</th>\n",
              "      <td>88</td>\n",
              "      <td>123</td>\n",
              "      <td>119</td>\n",
              "      <td>136</td>\n",
              "      <td>113</td>\n",
              "      <td>110</td>\n",
              "      <td>137</td>\n",
              "      <td>93</td>\n",
              "      <td>102</td>\n",
              "      <td>124</td>\n",
              "      <td>115</td>\n",
              "      <td>125</td>\n",
              "      <td>125</td>\n",
              "      <td>106</td>\n",
              "      <td>117</td>\n",
              "      <td>114</td>\n",
              "      <td>116</td>\n",
              "      <td>112</td>\n",
              "      <td>110</td>\n",
              "      <td>112</td>\n",
              "      <td>104</td>\n",
              "      <td>112</td>\n",
              "      <td>112</td>\n",
              "      <td>127</td>\n",
              "      <td>93</td>\n",
              "      <td>119</td>\n",
              "    </tr>\n",
              "    <tr>\n",
              "      <th>l</th>\n",
              "      <td>113</td>\n",
              "      <td>145</td>\n",
              "      <td>157</td>\n",
              "      <td>126</td>\n",
              "      <td>126</td>\n",
              "      <td>131</td>\n",
              "      <td>167</td>\n",
              "      <td>147</td>\n",
              "      <td>109</td>\n",
              "      <td>153</td>\n",
              "      <td>146</td>\n",
              "      <td>109</td>\n",
              "      <td>141</td>\n",
              "      <td>153</td>\n",
              "      <td>129</td>\n",
              "      <td>137</td>\n",
              "      <td>133</td>\n",
              "      <td>132</td>\n",
              "      <td>143</td>\n",
              "      <td>134</td>\n",
              "      <td>120</td>\n",
              "      <td>136</td>\n",
              "      <td>151</td>\n",
              "      <td>146</td>\n",
              "      <td>139</td>\n",
              "      <td>123</td>\n",
              "    </tr>\n",
              "    <tr>\n",
              "      <th>m</th>\n",
              "      <td>79</td>\n",
              "      <td>127</td>\n",
              "      <td>146</td>\n",
              "      <td>124</td>\n",
              "      <td>109</td>\n",
              "      <td>124</td>\n",
              "      <td>125</td>\n",
              "      <td>114</td>\n",
              "      <td>107</td>\n",
              "      <td>126</td>\n",
              "      <td>117</td>\n",
              "      <td>125</td>\n",
              "      <td>129</td>\n",
              "      <td>119</td>\n",
              "      <td>101</td>\n",
              "      <td>95</td>\n",
              "      <td>111</td>\n",
              "      <td>117</td>\n",
              "      <td>112</td>\n",
              "      <td>107</td>\n",
              "      <td>105</td>\n",
              "      <td>119</td>\n",
              "      <td>133</td>\n",
              "      <td>116</td>\n",
              "      <td>114</td>\n",
              "      <td>123</td>\n",
              "    </tr>\n",
              "    <tr>\n",
              "      <th>n</th>\n",
              "      <td>190</td>\n",
              "      <td>213</td>\n",
              "      <td>255</td>\n",
              "      <td>190</td>\n",
              "      <td>203</td>\n",
              "      <td>223</td>\n",
              "      <td>221</td>\n",
              "      <td>218</td>\n",
              "      <td>213</td>\n",
              "      <td>249</td>\n",
              "      <td>210</td>\n",
              "      <td>225</td>\n",
              "      <td>236</td>\n",
              "      <td>224</td>\n",
              "      <td>231</td>\n",
              "      <td>218</td>\n",
              "      <td>214</td>\n",
              "      <td>243</td>\n",
              "      <td>214</td>\n",
              "      <td>199</td>\n",
              "      <td>205</td>\n",
              "      <td>243</td>\n",
              "      <td>232</td>\n",
              "      <td>241</td>\n",
              "      <td>209</td>\n",
              "      <td>256</td>\n",
              "    </tr>\n",
              "    <tr>\n",
              "      <th>o</th>\n",
              "      <td>173</td>\n",
              "      <td>199</td>\n",
              "      <td>188</td>\n",
              "      <td>182</td>\n",
              "      <td>187</td>\n",
              "      <td>172</td>\n",
              "      <td>213</td>\n",
              "      <td>155</td>\n",
              "      <td>187</td>\n",
              "      <td>202</td>\n",
              "      <td>206</td>\n",
              "      <td>197</td>\n",
              "      <td>204</td>\n",
              "      <td>152</td>\n",
              "      <td>168</td>\n",
              "      <td>194</td>\n",
              "      <td>197</td>\n",
              "      <td>178</td>\n",
              "      <td>162</td>\n",
              "      <td>211</td>\n",
              "      <td>169</td>\n",
              "      <td>199</td>\n",
              "      <td>190</td>\n",
              "      <td>213</td>\n",
              "      <td>192</td>\n",
              "      <td>206</td>\n",
              "    </tr>\n",
              "    <tr>\n",
              "      <th>p</th>\n",
              "      <td>42</td>\n",
              "      <td>69</td>\n",
              "      <td>88</td>\n",
              "      <td>73</td>\n",
              "      <td>50</td>\n",
              "      <td>53</td>\n",
              "      <td>64</td>\n",
              "      <td>61</td>\n",
              "      <td>57</td>\n",
              "      <td>53</td>\n",
              "      <td>74</td>\n",
              "      <td>62</td>\n",
              "      <td>54</td>\n",
              "      <td>58</td>\n",
              "      <td>65</td>\n",
              "      <td>67</td>\n",
              "      <td>69</td>\n",
              "      <td>55</td>\n",
              "      <td>53</td>\n",
              "      <td>64</td>\n",
              "      <td>55</td>\n",
              "      <td>78</td>\n",
              "      <td>63</td>\n",
              "      <td>67</td>\n",
              "      <td>52</td>\n",
              "      <td>71</td>\n",
              "    </tr>\n",
              "    <tr>\n",
              "      <th>q</th>\n",
              "      <td>17</td>\n",
              "      <td>12</td>\n",
              "      <td>23</td>\n",
              "      <td>13</td>\n",
              "      <td>25</td>\n",
              "      <td>17</td>\n",
              "      <td>23</td>\n",
              "      <td>17</td>\n",
              "      <td>10</td>\n",
              "      <td>22</td>\n",
              "      <td>15</td>\n",
              "      <td>19</td>\n",
              "      <td>13</td>\n",
              "      <td>25</td>\n",
              "      <td>27</td>\n",
              "      <td>21</td>\n",
              "      <td>23</td>\n",
              "      <td>27</td>\n",
              "      <td>20</td>\n",
              "      <td>27</td>\n",
              "      <td>16</td>\n",
              "      <td>18</td>\n",
              "      <td>15</td>\n",
              "      <td>15</td>\n",
              "      <td>24</td>\n",
              "      <td>20</td>\n",
              "    </tr>\n",
              "    <tr>\n",
              "      <th>r</th>\n",
              "      <td>162</td>\n",
              "      <td>223</td>\n",
              "      <td>233</td>\n",
              "      <td>220</td>\n",
              "      <td>198</td>\n",
              "      <td>207</td>\n",
              "      <td>190</td>\n",
              "      <td>212</td>\n",
              "      <td>174</td>\n",
              "      <td>232</td>\n",
              "      <td>237</td>\n",
              "      <td>210</td>\n",
              "      <td>221</td>\n",
              "      <td>192</td>\n",
              "      <td>208</td>\n",
              "      <td>250</td>\n",
              "      <td>218</td>\n",
              "      <td>203</td>\n",
              "      <td>190</td>\n",
              "      <td>212</td>\n",
              "      <td>193</td>\n",
              "      <td>216</td>\n",
              "      <td>231</td>\n",
              "      <td>218</td>\n",
              "      <td>243</td>\n",
              "      <td>206</td>\n",
              "    </tr>\n",
              "    <tr>\n",
              "      <th>s</th>\n",
              "      <td>147</td>\n",
              "      <td>178</td>\n",
              "      <td>182</td>\n",
              "      <td>179</td>\n",
              "      <td>166</td>\n",
              "      <td>206</td>\n",
              "      <td>186</td>\n",
              "      <td>164</td>\n",
              "      <td>169</td>\n",
              "      <td>189</td>\n",
              "      <td>174</td>\n",
              "      <td>155</td>\n",
              "      <td>184</td>\n",
              "      <td>167</td>\n",
              "      <td>152</td>\n",
              "      <td>184</td>\n",
              "      <td>175</td>\n",
              "      <td>196</td>\n",
              "      <td>173</td>\n",
              "      <td>161</td>\n",
              "      <td>172</td>\n",
              "      <td>198</td>\n",
              "      <td>216</td>\n",
              "      <td>198</td>\n",
              "      <td>181</td>\n",
              "      <td>170</td>\n",
              "    </tr>\n",
              "    <tr>\n",
              "      <th>t</th>\n",
              "      <td>145</td>\n",
              "      <td>186</td>\n",
              "      <td>184</td>\n",
              "      <td>202</td>\n",
              "      <td>155</td>\n",
              "      <td>203</td>\n",
              "      <td>210</td>\n",
              "      <td>165</td>\n",
              "      <td>159</td>\n",
              "      <td>206</td>\n",
              "      <td>190</td>\n",
              "      <td>203</td>\n",
              "      <td>192</td>\n",
              "      <td>174</td>\n",
              "      <td>191</td>\n",
              "      <td>198</td>\n",
              "      <td>187</td>\n",
              "      <td>171</td>\n",
              "      <td>207</td>\n",
              "      <td>192</td>\n",
              "      <td>200</td>\n",
              "      <td>179</td>\n",
              "      <td>204</td>\n",
              "      <td>211</td>\n",
              "      <td>186</td>\n",
              "      <td>220</td>\n",
              "    </tr>\n",
              "    <tr>\n",
              "      <th>u</th>\n",
              "      <td>126</td>\n",
              "      <td>115</td>\n",
              "      <td>132</td>\n",
              "      <td>119</td>\n",
              "      <td>123</td>\n",
              "      <td>114</td>\n",
              "      <td>120</td>\n",
              "      <td>120</td>\n",
              "      <td>112</td>\n",
              "      <td>129</td>\n",
              "      <td>98</td>\n",
              "      <td>119</td>\n",
              "      <td>105</td>\n",
              "      <td>99</td>\n",
              "      <td>137</td>\n",
              "      <td>108</td>\n",
              "      <td>128</td>\n",
              "      <td>84</td>\n",
              "      <td>91</td>\n",
              "      <td>118</td>\n",
              "      <td>121</td>\n",
              "      <td>104</td>\n",
              "      <td>110</td>\n",
              "      <td>122</td>\n",
              "      <td>127</td>\n",
              "      <td>105</td>\n",
              "    </tr>\n",
              "    <tr>\n",
              "      <th>v</th>\n",
              "      <td>29</td>\n",
              "      <td>23</td>\n",
              "      <td>27</td>\n",
              "      <td>22</td>\n",
              "      <td>15</td>\n",
              "      <td>22</td>\n",
              "      <td>23</td>\n",
              "      <td>25</td>\n",
              "      <td>25</td>\n",
              "      <td>16</td>\n",
              "      <td>35</td>\n",
              "      <td>16</td>\n",
              "      <td>32</td>\n",
              "      <td>30</td>\n",
              "      <td>27</td>\n",
              "      <td>24</td>\n",
              "      <td>27</td>\n",
              "      <td>19</td>\n",
              "      <td>27</td>\n",
              "      <td>18</td>\n",
              "      <td>17</td>\n",
              "      <td>17</td>\n",
              "      <td>33</td>\n",
              "      <td>34</td>\n",
              "      <td>25</td>\n",
              "      <td>27</td>\n",
              "    </tr>\n",
              "    <tr>\n",
              "      <th>w</th>\n",
              "      <td>17</td>\n",
              "      <td>34</td>\n",
              "      <td>35</td>\n",
              "      <td>38</td>\n",
              "      <td>50</td>\n",
              "      <td>39</td>\n",
              "      <td>37</td>\n",
              "      <td>31</td>\n",
              "      <td>35</td>\n",
              "      <td>43</td>\n",
              "      <td>41</td>\n",
              "      <td>47</td>\n",
              "      <td>45</td>\n",
              "      <td>38</td>\n",
              "      <td>39</td>\n",
              "      <td>30</td>\n",
              "      <td>43</td>\n",
              "      <td>44</td>\n",
              "      <td>40</td>\n",
              "      <td>39</td>\n",
              "      <td>41</td>\n",
              "      <td>38</td>\n",
              "      <td>35</td>\n",
              "      <td>43</td>\n",
              "      <td>44</td>\n",
              "      <td>45</td>\n",
              "    </tr>\n",
              "    <tr>\n",
              "      <th>x</th>\n",
              "      <td>8</td>\n",
              "      <td>6</td>\n",
              "      <td>5</td>\n",
              "      <td>4</td>\n",
              "      <td>8</td>\n",
              "      <td>4</td>\n",
              "      <td>8</td>\n",
              "      <td>6</td>\n",
              "      <td>3</td>\n",
              "      <td>5</td>\n",
              "      <td>6</td>\n",
              "      <td>3</td>\n",
              "      <td>5</td>\n",
              "      <td>3</td>\n",
              "      <td>3</td>\n",
              "      <td>5</td>\n",
              "      <td>7</td>\n",
              "      <td>8</td>\n",
              "      <td>6</td>\n",
              "      <td>8</td>\n",
              "      <td>5</td>\n",
              "      <td>5</td>\n",
              "      <td>1</td>\n",
              "      <td>9</td>\n",
              "      <td>7</td>\n",
              "      <td>3</td>\n",
              "    </tr>\n",
              "    <tr>\n",
              "      <th>y</th>\n",
              "      <td>50</td>\n",
              "      <td>108</td>\n",
              "      <td>100</td>\n",
              "      <td>94</td>\n",
              "      <td>88</td>\n",
              "      <td>117</td>\n",
              "      <td>103</td>\n",
              "      <td>89</td>\n",
              "      <td>75</td>\n",
              "      <td>108</td>\n",
              "      <td>105</td>\n",
              "      <td>101</td>\n",
              "      <td>95</td>\n",
              "      <td>81</td>\n",
              "      <td>74</td>\n",
              "      <td>87</td>\n",
              "      <td>73</td>\n",
              "      <td>81</td>\n",
              "      <td>74</td>\n",
              "      <td>84</td>\n",
              "      <td>98</td>\n",
              "      <td>82</td>\n",
              "      <td>112</td>\n",
              "      <td>116</td>\n",
              "      <td>100</td>\n",
              "      <td>89</td>\n",
              "    </tr>\n",
              "    <tr>\n",
              "      <th>z</th>\n",
              "      <td>27</td>\n",
              "      <td>37</td>\n",
              "      <td>32</td>\n",
              "      <td>28</td>\n",
              "      <td>31</td>\n",
              "      <td>40</td>\n",
              "      <td>41</td>\n",
              "      <td>40</td>\n",
              "      <td>27</td>\n",
              "      <td>26</td>\n",
              "      <td>46</td>\n",
              "      <td>28</td>\n",
              "      <td>35</td>\n",
              "      <td>31</td>\n",
              "      <td>26</td>\n",
              "      <td>29</td>\n",
              "      <td>38</td>\n",
              "      <td>31</td>\n",
              "      <td>41</td>\n",
              "      <td>36</td>\n",
              "      <td>29</td>\n",
              "      <td>35</td>\n",
              "      <td>34</td>\n",
              "      <td>30</td>\n",
              "      <td>32</td>\n",
              "      <td>25</td>\n",
              "    </tr>\n",
              "  </tbody>\n",
              "</table>\n",
              "</div>"
            ],
            "text/plain": [
              "     a    b    c    d    e    f    g  ...    t    u    v    w    x    y    z\n",
              "#  594  650  705  682  710  707  683  ...  718  730  732  710  771  681  744\n",
              "a  548  693  644  652  662  641  656  ...  620  670  633  626  656  634  648\n",
              "b   57   81   95   97   60   86   66  ...   96   98   90  100   97   81   88\n",
              "c   55   64   69   66   58   67   68  ...   76   60   61   59   79   69   55\n",
              "d   99  109  127  136   97  148  114  ...  125  126  131  115  130  131  149\n",
              "e  273  298  248  230  235  272  270  ...  236  277  286  259  243  241  270\n",
              "f   23   39   58   38   32   44   38  ...   40   34   43   39   28   39   31\n",
              "g   56   88   88   80   74   74   74  ...   85   72   70   87   65   84   81\n",
              "h  112  206  210  237  185  228  234  ...  219  222  222  232  215  224  218\n",
              "i  229  254  259  252  250  246  248  ...  240  276  275  278  242  266  254\n",
              "j   38   53   53   42   50   50   49  ...   40   33   54   55   39   48   61\n",
              "k   88  123  119  136  113  110  137  ...  112  104  112  112  127   93  119\n",
              "l  113  145  157  126  126  131  167  ...  134  120  136  151  146  139  123\n",
              "m   79  127  146  124  109  124  125  ...  107  105  119  133  116  114  123\n",
              "n  190  213  255  190  203  223  221  ...  199  205  243  232  241  209  256\n",
              "o  173  199  188  182  187  172  213  ...  211  169  199  190  213  192  206\n",
              "p   42   69   88   73   50   53   64  ...   64   55   78   63   67   52   71\n",
              "q   17   12   23   13   25   17   23  ...   27   16   18   15   15   24   20\n",
              "r  162  223  233  220  198  207  190  ...  212  193  216  231  218  243  206\n",
              "s  147  178  182  179  166  206  186  ...  161  172  198  216  198  181  170\n",
              "t  145  186  184  202  155  203  210  ...  192  200  179  204  211  186  220\n",
              "u  126  115  132  119  123  114  120  ...  118  121  104  110  122  127  105\n",
              "v   29   23   27   22   15   22   23  ...   18   17   17   33   34   25   27\n",
              "w   17   34   35   38   50   39   37  ...   39   41   38   35   43   44   45\n",
              "x    8    6    5    4    8    4    8  ...    8    5    5    1    9    7    3\n",
              "y   50  108  100   94   88  117  103  ...   84   98   82  112  116  100   89\n",
              "z   27   37   32   28   31   40   41  ...   36   29   35   34   30   32   25\n",
              "\n",
              "[27 rows x 26 columns]"
            ]
          },
          "metadata": {
            "tags": []
          },
          "execution_count": 13
        }
      ]
    },
    {
      "cell_type": "markdown",
      "metadata": {
        "id": "esLa3TCW7RNF"
      },
      "source": [
        "## Generating Character Level Bigram Model (data)\n",
        "Every word in the corpus is broken into character level tuples of 2. Then the dictionary is updated where each key is a tuple and its value is the number of times it appears in the text"
      ]
    },
    {
      "cell_type": "code",
      "metadata": {
        "id": "RqX0U9YS7RNG"
      },
      "source": [
        "def generateBigram(corpus):\n",
        "    tuples=[]\n",
        "    count={}\n",
        "    for word in corpus:\n",
        "        cword='#'+word #adding the starting symbol to bigram model\n",
        "        for i in range(len(cword)-1):\n",
        "            l1=cword[i]\n",
        "            l2=cword[i+1]\n",
        "            t=tuple((l1,l2))\n",
        "    # for t in tuples:\n",
        "            if t in count:\n",
        "                count[t]+=1\n",
        "            else:\n",
        "                count[t]=1\n",
        "    return count\n",
        "bigram=generateBigram(corpus) #bigram for data.txt using the corpus where it was stored"
      ],
      "execution_count": 14,
      "outputs": []
    },
    {
      "cell_type": "markdown",
      "metadata": {
        "id": "3CQCigvb7RNG"
      },
      "source": [
        "## Calculate P(x|w) Where w Is a Candidate Word"
      ]
    },
    {
      "cell_type": "markdown",
      "metadata": {
        "id": "H2A9vXIL7RNH"
      },
      "source": [
        "### Get Count of A Letter in Data\n",
        "Every word in the corpus is broken into characters. Then the dictionary is updated where each key is a letter and its value is the number of times it appears in the text."
      ]
    },
    {
      "cell_type": "code",
      "metadata": {
        "colab": {
          "base_uri": "https://localhost:8080/"
        },
        "id": "nceiflNIOfme",
        "outputId": "f5d95278-eeed-471e-ec06-3446982be8d9"
      },
      "source": [
        "def getCountUnigram(corpus):\n",
        "  countunigram={}\n",
        "  for word in corpus:\n",
        "    for letter in word:\n",
        "      if letter in countunigram:\n",
        "        countunigram[letter]+=1\n",
        "      else:\n",
        "          countunigram[letter]=1\n",
        "\n",
        "  return countunigram\n",
        "\n",
        "countunigram=getCountUnigram(corpus) #countunigram for data.txt using the corpus where it was stored\n",
        "print(countunigram['y']) #checking"
      ],
      "execution_count": 15,
      "outputs": [
        {
          "output_type": "stream",
          "text": [
            "6922251\n"
          ],
          "name": "stdout"
        }
      ]
    },
    {
      "cell_type": "markdown",
      "metadata": {
        "id": "jcgQ19afPy6R"
      },
      "source": [
        "### Get Probability\n",
        "Using the getOperationLetters, the function gets what operation is performed between the words and upon which letters. If insert or subsitute then the respective value in the edit table is divided by number of times the correct letter appears in the text, in insert table this letter is x and in substitute this letter is y.\n",
        "If delete or tranpose then the value in the edit table is divided by the number of times the two letters appear consecutively in the text using the bigram generated before."
      ]
    },
    {
      "cell_type": "code",
      "metadata": {
        "colab": {
          "base_uri": "https://localhost:8080/"
        },
        "id": "dyA2f76f7RNH",
        "outputId": "ed7ec38c-0e29-4359-ea7b-87a61aa156ab"
      },
      "source": [
        "def getProbability(typo, candidate):\n",
        "    op, x, y=getOperationLetters(candidate, typo)\n",
        "    if (op=='insert'):\n",
        "        #print(\"inserted \", y, \"after\",x)\n",
        "        if x!='#':\n",
        "            p=(insert[y][x])/float(countunigram[x]) #y is inserted after x\n",
        "        else:\n",
        "            p=(insert[y][x])/float(len(corpus))\n",
        "    elif (op=='delete'):\n",
        "        p=(delete[y][x])/float(bigram[(x,y)]) #y is deleted after x\n",
        "    elif (op=='transpose'):\n",
        "        p=(rev[y][x])/float(bigram[(x,y)]) #reversal of xy\n",
        "    elif (op=='substitute'):\n",
        "        p=(sub[y][x])/float(countunigram[y]) #x is substituted by y\n",
        "    return p\n",
        "\n",
        "print(getProbability('nhi', 'nahi')) #checking\n",
        "    "
      ],
      "execution_count": 21,
      "outputs": [
        {
          "output_type": "stream",
          "text": [
            "5.062535475717346e-06\n"
          ],
          "name": "stdout"
        }
      ]
    },
    {
      "cell_type": "markdown",
      "metadata": {
        "id": "qR8GCCrO7RNI"
      },
      "source": [
        "## Get Edit Distance Between Two Words x,w\n",
        "This function gets the levenshtein edit distance between two words. Since transposition is considered 2 occurences of substitution, if transposition occurs in the word, the edit distance is subtracted by 1.\n",
        "This subtraction is only done once since we will be considering those words with only 1 edit distance later on anyway. So even if there were multiple transpositions and decrementing it by 1 wont give accurate edit distance, it will not matter as edit distance will have exceeded 1 already and we will be discarding that word as a candidate as instructed by the assignment document.\n",
        "We only need to cater to words where transposition occurs once and that has been done."
      ]
    },
    {
      "cell_type": "code",
      "metadata": {
        "colab": {
          "base_uri": "https://localhost:8080/"
        },
        "id": "2yhZBnXn7RNI",
        "outputId": "9e3a4d32-e89d-481f-e61f-65b1650cfeee"
      },
      "source": [
        "def getEditDistance(x,w):\n",
        "    transpose=False\n",
        "    matrix = np.zeros((len(x)+1, len(w)+1))  \n",
        "    for i in range(len(x)+1):\n",
        "        matrix[i,0]=i\n",
        "    for j in range(len(w)+1):\n",
        "        matrix[0,j]=j\n",
        "    for i in range(0,len(x)):\n",
        "        for j in range(0,len(w)):\n",
        "            if x[i]==w[j]:\n",
        "                matrix[i+1][j+1] = min(matrix[i+1][j] + 1, matrix[i][j+1] + 1, matrix[i][j])\n",
        "            else:\n",
        "                 matrix[i+1][j+1] = min(matrix[i+1][j] + 1, matrix[i][j+1] + 1, matrix[i][j] + 1)\n",
        "                    \n",
        "    edit=matrix[len(x),len(w)]\n",
        "    if (len(x)==len(w)):\n",
        "        sorted_x = sorted(x)\n",
        "        sorted_w = sorted(w)\n",
        "        if (sorted_x==sorted_w):\n",
        "            for i in range(len(x)-1):\n",
        "                if x[i]==w[i+1] and x[i+1]==w[i]:\n",
        "                    transpose=True\n",
        "                    edit=edit-1\n",
        "                    break\n",
        "            #print(\"transpose\")\n",
        "    return edit\n",
        "\n",
        "print(getEditDistance('mza','maz')) #checking\n",
        "\n",
        "    "
      ],
      "execution_count": 17,
      "outputs": [
        {
          "output_type": "stream",
          "text": [
            "1.0\n"
          ],
          "name": "stdout"
        }
      ]
    },
    {
      "cell_type": "markdown",
      "metadata": {
        "id": "Bw6MagFu7RNJ"
      },
      "source": [
        "## Get List Of Candidate Words with Edit Distance=1\n",
        "This function returns a list of all words from the vocabulary that have an edit distance of just 1 from the given word x. The unigram created for the corpus is used for the voabulary as we only need to go through all the unique words. Otherwise if we go through the whole text, it will waste a lot of time as the total words are 63 million + where as unique words in it are around 35000 "
      ]
    },
    {
      "cell_type": "code",
      "metadata": {
        "scrolled": true,
        "colab": {
          "base_uri": "https://localhost:8080/"
        },
        "id": "UiFQSMRt7RNJ",
        "outputId": "7b410f67-af6f-42cd-c95a-7b949bad7fee"
      },
      "source": [
        "def getCandidateWords(x, vocabulary):\n",
        "    candidates=[]\n",
        "    for v in vocabulary:\n",
        "        #print(v)\n",
        "        if (getEditDistance(x,v)==1):\n",
        "            if v not in candidates:\n",
        "                candidates.append(v)\n",
        "            else:\n",
        "              print(\"repeat\")\n",
        "        #print(\"Gotten edit\")\n",
        "    return candidates\n",
        "\n",
        "print(getCandidateWords('ba', unigram)) #unigram used to only check unique words to save time"
      ],
      "execution_count": 18,
      "outputs": [
        {
          "output_type": "stream",
          "text": [
            "['ya', 'bat', 'bi', 'bt', 'ma', 'ka', 'ab', 'bal', 'ja', 'na', 'ga', 'ha', 'be', 'bl', 'bs', 'bad', 'da', 'aa', 'ban', 'la', 'by', 'bar', 'pa', 'bc', 'ta', 'baz', 'sa', 'bh', 'bta', 'bai', 'bna', 'bj', 'bas', 'ra', 'baj', 'mba', 'fa', 'bra', 'wa', 'bn', 'ia', 'bap', 'bk', 'bae', 'br', 'bag', 'baa', 'bia', 'bf', 'bay', 'aba', 'za', 'qa', 'bah', 'bv', 'bb', 'ua', 'oa', 'bda', 'bak', 'bo', 'ea', 'bba', 'uba', 'bla', 'bd', 'bp', 'bja', 'bua', 'oba', 'bu', 'bam', 'dba', 'bx', 'va', 'bm', 'bw', 'ca', 'bha', 'bz', 'eba', 'bau', 'iba', 'xa', 'bao', 'bg', 'boa', 'bya', 'bax']\n"
          ],
          "name": "stdout"
        }
      ]
    },
    {
      "cell_type": "markdown",
      "metadata": {
        "id": "mEUbwIQm7RNK"
      },
      "source": [
        "## Find Most Probable Word\n",
        "Using the functions above, first this function gets list of candidate words for x. Then for every word probability is calculated as P(x|w)*p(w) where P(x|w) is gotten using the getProbability function and P(w) using the unigram for the corpus. Then using argmax, the word with highest probability is returned."
      ]
    },
    {
      "cell_type": "code",
      "metadata": {
        "scrolled": false,
        "id": "psq2XPkE7RNK"
      },
      "source": [
        "def getMostProbable(x):\n",
        "    if x in unigram: #the word is correct spelling, exists in vocabulary\n",
        "      print(\"Correctly Spelled Word:\", end=\" \")\n",
        "      return x\n",
        "    else:\n",
        "      candidates=getCandidateWords(x,unigram)\n",
        "      if len(candidates)>0:\n",
        "          probabilities=[None]*len(candidates)\n",
        "          for i,w in enumerate(candidates):\n",
        "              p=getProbability(x, w)*unigram[w]\n",
        "              probabilities[i]=p\n",
        "              #print(\"Probability of \", w,\"is\",p)\n",
        "          index=np.argmax(probabilities)\n",
        "          print(\"You Most Likely Meant:\",end=\" \")\n",
        "          return candidates[index]\n",
        "      else:\n",
        "          return \"No Options Available For This Word\"\n",
        "\n"
      ],
      "execution_count": 30,
      "outputs": []
    },
    {
      "cell_type": "markdown",
      "metadata": {
        "id": "a6YeapRX28Bo"
      },
      "source": [
        "# Output Examples"
      ]
    },
    {
      "cell_type": "code",
      "metadata": {
        "colab": {
          "base_uri": "https://localhost:8080/"
        },
        "id": "eRbvFf6M3BZW",
        "outputId": "89524da3-bf25-45f7-f023-4bcd2a549901"
      },
      "source": [
        "print(getMostProbable('abc'))"
      ],
      "execution_count": 24,
      "outputs": [
        {
          "output_type": "stream",
          "text": [
            "You Most Likely Meant: ab\n"
          ],
          "name": "stdout"
        }
      ]
    },
    {
      "cell_type": "code",
      "metadata": {
        "colab": {
          "base_uri": "https://localhost:8080/"
        },
        "id": "3bnrhJji7RNL",
        "outputId": "faf6e226-29fb-458e-e49d-c446ebb99b1d"
      },
      "source": [
        "print(getMostProbable('battay'))"
      ],
      "execution_count": 25,
      "outputs": [
        {
          "output_type": "stream",
          "text": [
            "You Most Likely Meant: pattay\n"
          ],
          "name": "stdout"
        }
      ]
    },
    {
      "cell_type": "code",
      "metadata": {
        "colab": {
          "base_uri": "https://localhost:8080/"
        },
        "id": "5MEwwYoT7RNL",
        "outputId": "b6eae0ec-d919-493d-9f05-55d1fb60189b"
      },
      "source": [
        "print(getMostProbable('batayn'))"
      ],
      "execution_count": 26,
      "outputs": [
        {
          "output_type": "stream",
          "text": [
            "You Most Likely Meant: bataya\n"
          ],
          "name": "stdout"
        }
      ]
    },
    {
      "cell_type": "code",
      "metadata": {
        "colab": {
          "base_uri": "https://localhost:8080/"
        },
        "id": "3Ugpwlsp7RNL",
        "outputId": "ab5d0cad-3fa3-456e-9ab0-c3c624988748"
      },
      "source": [
        "print(getMostProbable('mujhel'))"
      ],
      "execution_count": 28,
      "outputs": [
        {
          "output_type": "stream",
          "text": [
            "You Most Likely Meant: mujhe\n"
          ],
          "name": "stdout"
        }
      ]
    },
    {
      "cell_type": "code",
      "metadata": {
        "colab": {
          "base_uri": "https://localhost:8080/"
        },
        "id": "LhT4Y82OH4di",
        "outputId": "a91969ae-8e55-42dd-cd66-accb694b9510"
      },
      "source": [
        "print(getMostProbable('nahi'))"
      ],
      "execution_count": 31,
      "outputs": [
        {
          "output_type": "stream",
          "text": [
            "Correctly Spelled Word: nahi\n"
          ],
          "name": "stdout"
        }
      ]
    },
    {
      "cell_type": "code",
      "metadata": {
        "colab": {
          "base_uri": "https://localhost:8080/"
        },
        "id": "xxdC9qkN3oIZ",
        "outputId": "17ccaea0-2adc-4251-9561-0616c679af02"
      },
      "source": [
        "print(getMostProbable('xfaxsxs'))"
      ],
      "execution_count": 32,
      "outputs": [
        {
          "output_type": "stream",
          "text": [
            "No Options Available For This Word\n"
          ],
          "name": "stdout"
        }
      ]
    },
    {
      "cell_type": "code",
      "metadata": {
        "colab": {
          "base_uri": "https://localhost:8080/"
        },
        "id": "WQiP441-3upa",
        "outputId": "d561a5e0-e631-4381-b079-8385afdee1ac"
      },
      "source": [
        "print(getMostProbable('lool'))"
      ],
      "execution_count": 36,
      "outputs": [
        {
          "output_type": "stream",
          "text": [
            "You Most Likely Meant: cool\n"
          ],
          "name": "stdout"
        }
      ]
    }
  ]
}